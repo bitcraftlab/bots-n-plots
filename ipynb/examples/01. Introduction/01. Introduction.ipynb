{
 "cells": [
  {
   "cell_type": "markdown",
   "metadata": {
    "slideshow": {
     "slide_type": "slide"
    }
   },
   "source": [
    "# 01. Introduction"
   ]
  },
  {
   "cell_type": "markdown",
   "metadata": {
    "slideshow": {
     "slide_type": "slide"
    }
   },
   "source": [
    "## Important Concepts\n",
    "\n",
    "Let's start with a couple of names that we will be encouter on a regular basis ..."
   ]
  },
  {
   "cell_type": "markdown",
   "metadata": {
    "slideshow": {
     "slide_type": "subslide"
    }
   },
   "source": [
    "### Python ###\n",
    "\n",
    "Programming language we are using in this course.  \n",
    "It comes in two flavours: \n",
    "- Python 2\n",
    "- Python 3    "
   ]
  },
  {
   "cell_type": "markdown",
   "metadata": {
    "slideshow": {
     "slide_type": "subslide"
    }
   },
   "source": [
    "### iPython ###\n",
    "- Interactive python editor  \n",
    "- It comes with several frontends including the notebook frontend you are using right now.\n",
    "    "
   ]
  },
  {
   "cell_type": "markdown",
   "metadata": {
    "slideshow": {
     "slide_type": "subslide"
    }
   },
   "source": [
    "### Notebook ###  \n",
    "- A document that contains both text and executable code.  \n",
    "- It's saved as a file with the ending `.ipynb` on the server.      "
   ]
  },
  {
   "cell_type": "markdown",
   "metadata": {
    "slideshow": {
     "slide_type": "subslide"
    }
   },
   "source": [
    "### Jupyter ###\n",
    "\n",
    "- Jupyter is the successor of iPython.  "
   ]
  },
  {
   "cell_type": "markdown",
   "metadata": {
    "slideshow": {
     "slide_type": "fragment"
    }
   },
   "source": [
    "- Multi-user system that runs on a server"
   ]
  },
  {
   "cell_type": "markdown",
   "metadata": {
    "slideshow": {
     "slide_type": "fragment"
    }
   },
   "source": [
    "- You interact with it using your favorite browser"
   ]
  },
  {
   "cell_type": "markdown",
   "metadata": {
    "slideshow": {
     "slide_type": "fragment"
    }
   },
   "source": [
    "- Jupyter lets you mess with Python without the need to install python packages on your local machine"
   ]
  },
  {
   "cell_type": "markdown",
   "metadata": {
    "slideshow": {
     "slide_type": "fragment"
    }
   },
   "source": [
    "- You don't have to submit your homework,  \n",
    "just edit the notebooks."
   ]
  },
  {
   "cell_type": "markdown",
   "metadata": {
    "slideshow": {
     "slide_type": "subslide"
    }
   },
   "source": [
    "### Markdown ###\n",
    "- Markdown is a language for text markup.  \n",
    "- This means you can write **fat**, *italics*, create paragraphs, bullet lists and so on.  \n",
    "- Unlike `HTML`, markdown has been created to be human readable even in its plain form."
   ]
  },
  {
   "cell_type": "markdown",
   "metadata": {
    "slideshow": {
     "slide_type": "subslide"
    }
   },
   "source": [
    "### Programming Language Kernels ###\n",
    "- Jupyter supports various programming languages.  \n",
    "**Python 2** and **Python 3** are just two examples.  \n",
    "- You can see which kernel is active in the top right corner of the notebook.   \n",
    "- There are kernels for various other programming languages as well."
   ]
  },
  {
   "cell_type": "markdown",
   "metadata": {
    "slideshow": {
     "slide_type": "subslide"
    }
   },
   "source": [
    "### Packages ###\n",
    "- There are various extensions for python, which are refered to as packages.  \n",
    "- You don't need to worry about packages right now, because I are already installed all you need\n",
    "on jupyter for you. \n",
    "- As soon as you install python on your local machine, you should find out how to install the packages you need."
   ]
  },
  {
   "cell_type": "markdown",
   "metadata": {
    "slideshow": {
     "slide_type": "subslide"
    }
   },
   "source": [
    "### Magics ### \n",
    "ipython comes with some extra power refered to as magic.  \n",
    "For example you can use magic to evaluate a cell as javascript"
   ]
  },
  {
   "cell_type": "markdown",
   "metadata": {
    "slideshow": {
     "slide_type": "slide"
    }
   },
   "source": [
    "## Introduction to Notebooks\n",
    "\n",
    "Notebooks are made up of *cells*.  \n",
    "Each cell can contain:"
   ]
  },
  {
   "cell_type": "markdown",
   "metadata": {
    "slideshow": {
     "slide_type": "fragment"
    }
   },
   "source": [
    "- Text\n",
    "    - Markdown (Headlines)"
   ]
  },
  {
   "cell_type": "markdown",
   "metadata": {
    "slideshow": {
     "slide_type": "fragment"
    }
   },
   "source": [
    "- Code \n",
    "    - Input Cells\n",
    "    - Output Cells"
   ]
  },
  {
   "cell_type": "markdown",
   "metadata": {
    "slideshow": {
     "slide_type": "subslide"
    }
   },
   "source": [
    "### Text Cells ### \n",
    "\n",
    "Text cells are inteded for humans.  \n",
    "They should explanain what's going on in the notebook. \n",
    "\n",
    "\n",
    "> **Note:**  \n",
    "  There used to be extra cells for headlines, but those are deprecated now.  \n",
    "  The reason for this is the python mantra, that there should be one and just one obvious way to do things.  \n",
    "  Having two ways to create headlines would not conform with this mantra.  "
   ]
  },
  {
   "cell_type": "markdown",
   "metadata": {
    "slideshow": {
     "slide_type": "subslide"
    }
   },
   "source": [
    "### Code Cells ###\n",
    "\n",
    "Code cells are snippets of code that are either processed or created by the computer.\n",
    "The notebook is a broweser based frontend for a Python `REPL`.  \n",
    "REPL is short for **R**ead-**E**valuate-**P**rint **L**oop.  \n",
    "In a REPL, the computer reads what you submit as input, evaluates it and prints the output.  \n",
    "In python notebooks, input cells are labeled \n",
    "\n",
    "- `In[ ]` for Input Cells\n",
    "- `Out[ ]` for Output Cells\n"
   ]
  },
  {
   "cell_type": "markdown",
   "metadata": {
    "slideshow": {
     "slide_type": "subslide"
    }
   },
   "source": [
    "### Modes ###\n",
    "\n",
    "Since iPython 3.0 there's two different modes:\n",
    "\n",
    "- `Command Mode`\n",
    "- `Edit Mode`"
   ]
  },
  {
   "cell_type": "markdown",
   "metadata": {
    "slideshow": {
     "slide_type": "subslide"
    }
   },
   "source": [
    "#### Mode Cursor ####\n",
    "If you are in `Edit Mode`, there's a green border around the active cell.  \n",
    "In this mode you can use your keyboard to edit the contents of the cell.\n",
    "\n",
    "If you are in `Command Mode` the border is black.  \n",
    "In this mode you can use your keyboard to change the arrangement of cells in the notebook,\n",
    "and do various other nasty things."
   ]
  },
  {
   "cell_type": "markdown",
   "metadata": {
    "slideshow": {
     "slide_type": "subslide"
    }
   },
   "source": [
    "#### Switching Modes ####\n",
    "Press `[ESC]` to **escape** from the edit mode  \n",
    "Press `[RETURN]` to **return** to the edit mode    \n",
    "\n",
    "If you are in Command Mode, press `[h]` to get **h**elp about various shortcuts."
   ]
  },
  {
   "cell_type": "markdown",
   "metadata": {
    "slideshow": {
     "slide_type": "subslide"
    }
   },
   "source": [
    "## Questions, Tasks, Assignments\n",
    "\n",
    "In every notebook there are's a section labeled **Questions** to test your understanding.\n",
    "There are alos little programming excercises labeled **Tasks** that you should solve during the class or as a homework.  \n",
    "\n",
    "Sometimes there are also assignments, which require a bit more creativity on your behalf.  \n",
    "An assignment is a whole notebook dedicated to a topic.\n",
    "\n",
    "Please take the assignments seriously, since they are required to pass the course.\n",
    "Assignments that are submitted too late or incomplete, can result in failing the class.\n",
    "And nobody wants that, right?"
   ]
  },
  {
   "cell_type": "markdown",
   "metadata": {
    "slideshow": {
     "slide_type": "slide"
    }
   },
   "source": [
    "## Links\n",
    "\n",
    "* Learning Markdown\n",
    "* Jupyter Homepage\n"
   ]
  },
  {
   "cell_type": "markdown",
   "metadata": {
    "slideshow": {
     "slide_type": "slide"
    }
   },
   "source": [
    "## Questions "
   ]
  },
  {
   "cell_type": "markdown",
   "metadata": {
    "slideshow": {
     "slide_type": "subslide"
    }
   },
   "source": [
    "**Q1**: *What kinds of frontends are there for iPython?*"
   ]
  },
  {
   "cell_type": "markdown",
   "metadata": {
    "slideshow": {
     "slide_type": "fragment"
    }
   },
   "source": [
    "**A1:**  ... "
   ]
  },
  {
   "cell_type": "markdown",
   "metadata": {
    "slideshow": {
     "slide_type": "subslide"
    }
   },
   "source": [
    "**Q2:** *Complete the table below*"
   ]
  },
  {
   "cell_type": "markdown",
   "metadata": {
    "slideshow": {
     "slide_type": "fragment"
    }
   },
   "source": [
    "**A2:** ..."
   ]
  }
 ],
 "metadata": {
  "kernelspec": {
   "display_name": "Python 2",
   "language": "python",
   "name": "python2"
  },
  "language_info": {
   "codemirror_mode": {
    "name": "ipython",
    "version": 2
   },
   "file_extension": ".py",
   "mimetype": "text/x-python",
   "name": "python",
   "nbconvert_exporter": "python",
   "pygments_lexer": "ipython2",
   "version": "2.7.8"
  }
 },
 "nbformat": 4,
 "nbformat_minor": 0
}
